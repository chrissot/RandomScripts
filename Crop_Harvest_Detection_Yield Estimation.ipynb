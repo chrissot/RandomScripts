{
 "cells": [
  {
   "cell_type": "markdown",
   "id": "6ab97715-5b71-4627-afc6-f7501633e515",
   "metadata": {},
   "source": [
    "#### Notes before Running\n",
    "\n",
    "- This script assumes you have already run download-bands.py script and a project directory has been created \n",
    "- Place the field shapefile send into the project directory (gt-task\\). This field is the first downloaded field from download-bands.py script and was used to test.\n",
    "- Set the project directory and field_id before running\n",
    "- Select Harvest Assumption before running (True or False)/ default == Assunption3"
   ]
  },
  {
   "cell_type": "markdown",
   "id": "313928aa-7688-4867-a313-5f6329468f67",
   "metadata": {},
   "source": [
    "#### Imports"
   ]
  },
  {
   "cell_type": "code",
   "execution_count": 1,
   "id": "healthy-mercy",
   "metadata": {},
   "outputs": [],
   "source": [
    "import os\n",
    "import rasterio\n",
    "from rasterio import plot\n",
    "from rasterio.mask import mask\n",
    "import matplotlib.pyplot as plt\n",
    "import pandas as pd\n",
    "import numpy as np\n",
    "import datetime\n",
    "import fiona"
   ]
  },
  {
   "cell_type": "markdown",
   "id": "8f5e56b8-8f9b-4047-8679-3e6c615ce02e",
   "metadata": {},
   "source": [
    "## !! Set !!"
   ]
  },
  {
   "cell_type": "markdown",
   "id": "86b6c26a-5826-4793-96c0-6144c4251bf3",
   "metadata": {},
   "source": [
    "##### Set projectdir and field_id "
   ]
  },
  {
   "cell_type": "code",
   "execution_count": 2,
   "id": "ad9c9811-c4ba-4745-8ae4-f42882316555",
   "metadata": {},
   "outputs": [],
   "source": [
    "field_id = '1f5db323-de26-11eb-96a1-5b57f233df61'\n",
    "projectdir = r'C:\\Users\\csoti\\Desktop\\notebooks\\GreenTriangle2\\gt-task'"
   ]
  },
  {
   "cell_type": "markdown",
   "id": "492fcc55-2878-4b6a-8e7e-8978a90a6d07",
   "metadata": {},
   "source": [
    "##### Select Harvest Assumption "
   ]
  },
  {
   "cell_type": "code",
   "execution_count": 3,
   "id": "5f7f0657-11d1-497a-bde1-46b7817ad576",
   "metadata": {},
   "outputs": [],
   "source": [
    "## Assumption1: \n",
    "# Harvest events confirm when, a high NDVI observation, >0.3, \n",
    "# is followed by two low NDVI observations, <0.1 \n",
    "Assumption1 = False\n",
    "\n",
    "## Assumption2: \n",
    "# Harvest events confirm when, two high NDVI observations, >0.3, \n",
    "# are followed by two low NDVI observations, <0.1 \n",
    "Assumption2 = False\n",
    "\n",
    "# Assumption3: \n",
    "# Harvest events confirm when, three high NDVI observations, >0.3, \n",
    "# are followed by three low NDVI observations, <0.1 \n",
    "Assumption3 = True"
   ]
  },
  {
   "cell_type": "markdown",
   "id": "ad474ce2-2dd9-4791-99b3-2790f5541967",
   "metadata": {},
   "source": [
    "### Preprocessing"
   ]
  },
  {
   "cell_type": "code",
   "execution_count": 4,
   "id": "chief-earth",
   "metadata": {},
   "outputs": [],
   "source": [
    "fid = field_id.replace(\"-\", \"\")\n",
    "field_shp = os.path.join(projectdir, fid + '.shp')\n",
    "assert os.path.exists(field_shp)\n",
    "\n",
    "tiles = os.path.join(projectdir, 'tiles', field_id)\n",
    "assert os.path.exists(tiles)\n",
    "\n",
    "ndvidir = os.path.join(projectdir, 'ndvi', os.path.basename(tiles))\n",
    "if not os.path.exists(ndvidir):\n",
    "    os.makedirs(ndvidir)\n",
    "\n",
    "clipdir = os.path.join(projectdir, 'clip', os.path.basename(tiles))\n",
    "if not os.path.exists(clipdir):\n",
    "    os.makedirs(clipdir)\n",
    "\n",
    "noDatadir =  os.path.join(projectdir, 'nodata', os.path.basename(tiles))\n",
    "if not os.path.exists(noDatadir):\n",
    "    os.makedirs(noDatadir)\n",
    "\n",
    "stackdir = os.path.join(projectdir, 'stack', os.path.basename(tiles))\n",
    "if not os.path.exists(stackdir):\n",
    "    os.makedirs(stackdir)\n"
   ]
  },
  {
   "cell_type": "markdown",
   "id": "09694ca9-9ed2-4c89-b3b8-b2b4e15b7b12",
   "metadata": {},
   "source": [
    "### Functions"
   ]
  },
  {
   "cell_type": "code",
   "execution_count": 5,
   "id": "radio-capital",
   "metadata": {
    "scrolled": true
   },
   "outputs": [],
   "source": [
    "def compute_ndvi(tiles, ndvidir):\n",
    "    for folder in os.listdir(tiles):\n",
    "        folderpath = os.path.join(tiles, folder)\n",
    "        subDir = os.listdir(folderpath)\n",
    "        if \"B04.tiff\" in subDir[1]:\n",
    "            date = datetime.datetime.strptime(folder, '%Y-%m-%d').strftime('%Y%m%d')\n",
    "            band4 = rasterio.open(os.path.join(folderpath ,subDir[1]))\n",
    "            band8 = rasterio.open(os.path.join(folderpath ,subDir[2]))\n",
    "    \n",
    "            red = band4.read().astype('float32')\n",
    "            nir = band8.read().astype('float32')\n",
    "            ndvi=np.where((nir+red)==0., 0, (nir-red)/(nir+red))\n",
    "    \n",
    "            b4meta  = rasterio.open(os.path.join(folderpath ,subDir[1]))\n",
    "            ndviout = os.path.join(ndvidir , date + '_ndvi.tif')\n",
    "            if not os.path.exists(ndviout):\n",
    "                ndviTiff = rasterio.open(ndviout,'w',driver='Gtiff',\n",
    "                                  width = b4meta.width, \n",
    "                                  height = b4meta.height, \n",
    "                                  count=1, crs=b4meta.crs, \n",
    "                                  transform=b4meta.transform, \n",
    "                                  dtype='float64')\n",
    "                ndviTiff.write(ndvi)\n",
    "                ndviTiff.close()\n",
    "\n",
    "def clip_rasters(fpath, fshp, outdir): \n",
    "\n",
    "    bandNames = os.listdir(fpath)\n",
    "    shp = fiona.open(fshp)\n",
    "    aoiGeom = [shp[0]['geometry']]\n",
    "    \n",
    "    #clip all rasters\n",
    "    for band in bandNames:\n",
    "        rasterPath = os.path.join(fpath,band)\n",
    "        rasterBand = rasterio.open(rasterPath)\n",
    "        outImage, outTransform = mask(rasterBand, aoiGeom, crop=True, filled=True, all_touched=False )\n",
    "        outMeta = rasterBand.meta\n",
    "        outMeta.update({\"driver\": 'GTiff',\n",
    "                     \"height\": outImage.shape[1],\n",
    "                     \"width\": outImage.shape[2],\n",
    "                     \"transform\": outTransform})\n",
    "        outPath = os.path.join(outdir,band)\n",
    "        if not os.path.exists(outPath):\n",
    "            outRaster = rasterio.open(outPath, \"w\", **outMeta) \n",
    "            outRaster.write(outImage)\n",
    "            outRaster.close()\n",
    "\n",
    "def fix_no_data_value(input_file, output_file, no_data_value=0):\n",
    "    with rasterio.open(input_file, \"r+\") as src:\n",
    "        src.nodata = no_data_value\n",
    "        with rasterio.open(output_file, 'w',  **src.profile) as dst:\n",
    "            for i in range(1, src.count + 1):\n",
    "                band = src.read(i)\n",
    "                band = np.where(band==no_data_value,no_data_value,band)\n",
    "                dst.write(band,i)\n",
    "                \n",
    "        \n",
    "def stack_rasters(rasterdir, stackdir):\n",
    "    raster_list = []\n",
    "    for file in os.listdir(rasterdir):\n",
    "        filepath = os.path.join(rasterdir, file)\n",
    "        raster_list.append(filepath)\n",
    "    \n",
    "    # Read metadata of first file\n",
    "    with rasterio.open(raster_list[0]) as src0:\n",
    "        meta = src0.meta\n",
    "    \n",
    "    # Update meta to reflect the number of layers\n",
    "    meta.update(count = len(raster_list))\n",
    "    \n",
    "    # Read each layer and write it to stack\n",
    "    year = raster_list[0].split('_')[0][-8:-4]\n",
    "    stackout = os.path.join(stackdir , year + '_stack.tif')\n",
    "    if not os.path.exists(stackout):\n",
    "        with rasterio.open(stackout, 'w', **meta) as dst:\n",
    "            for id, layer in enumerate(raster_list, start=1):\n",
    "                with rasterio.open(layer) as src1:\n",
    "                    dst.write_band(id, src1.read(1))\n",
    "\n"
   ]
  },
  {
   "cell_type": "markdown",
   "id": "df3c9aab-7e27-404f-8adb-bbb80aca8c9f",
   "metadata": {},
   "source": [
    "### Run"
   ]
  },
  {
   "cell_type": "markdown",
   "id": "88226c6c-daaf-431f-9491-28ffa45697cd",
   "metadata": {},
   "source": [
    "##### Compute NDVI"
   ]
  },
  {
   "cell_type": "code",
   "execution_count": 22,
   "id": "4cb71f93-c76a-4578-97e7-10cb45b30707",
   "metadata": {
    "scrolled": true
   },
   "outputs": [],
   "source": [
    "compute_ndvi(tiles, ndvidir)"
   ]
  },
  {
   "cell_type": "markdown",
   "id": "b38ed973-1c34-498b-92cd-17f1a63fc7d9",
   "metadata": {},
   "source": [
    "##### Clip Rasters"
   ]
  },
  {
   "cell_type": "code",
   "execution_count": 23,
   "id": "e0f3dc61-9fe9-46c1-bacb-fc11ee81251d",
   "metadata": {},
   "outputs": [],
   "source": [
    "clip_rasters(ndvidir, field_shp, clipdir)"
   ]
  },
  {
   "cell_type": "markdown",
   "id": "5753c3e1-a91d-42c4-96e9-b7c3a489470e",
   "metadata": {},
   "source": [
    "##### Fix No data"
   ]
  },
  {
   "cell_type": "code",
   "execution_count": 24,
   "id": "f3e23fc3-a579-4368-875f-5d42554700b7",
   "metadata": {},
   "outputs": [],
   "source": [
    "for file in os.listdir(clipdir):\n",
    "    input_file = os.path.join(clipdir, file)\n",
    "    out_file = os.path.join(noDatadir, file)\n",
    "    if not os.path.exists(out_file):\n",
    "        fix_no_data_value(input_file, out_file, no_data_value=0)"
   ]
  },
  {
   "cell_type": "markdown",
   "id": "544372e0-27b6-461e-8559-bb164b3d8e1a",
   "metadata": {},
   "source": [
    "##### Stack rasters"
   ]
  },
  {
   "cell_type": "code",
   "execution_count": 9,
   "id": "06d06e88-13fa-4b67-8e56-599d84ed32ad",
   "metadata": {},
   "outputs": [],
   "source": [
    "stack_rasters(noDatadir, stackdir)"
   ]
  },
  {
   "cell_type": "markdown",
   "id": "d6524a1b-f526-4674-aa43-939385b16774",
   "metadata": {},
   "source": [
    "##### Get Mean NDVI values"
   ]
  },
  {
   "cell_type": "code",
   "execution_count": 6,
   "id": "97e6796c-ccfc-423b-a8df-48deaab39fd2",
   "metadata": {
    "scrolled": true
   },
   "outputs": [],
   "source": [
    "dates_list = []\n",
    "ndvi_mean_list = []\n",
    "\n",
    "bandNames = os.listdir(noDatadir)\n",
    "\n",
    "for img in bandNames:\n",
    "    img_path = os.path.join(noDatadir, img)\n",
    "    img_open = rasterio.open(img_path)\n",
    "    img_read = img_open.read()\n",
    "    mean_value = img_read.mean()\n",
    "    # median_value = np.median(img_read)\n",
    "    if mean_value<0:\n",
    "        mean_value=0\n",
    "    ndvi_mean_list.append(mean_value)\n",
    "    date = img.split('_')[0]\n",
    "    dates_list.append(date)"
   ]
  },
  {
   "cell_type": "markdown",
   "id": "ca85ea2f-5747-49f4-8ab8-02204efd3577",
   "metadata": {
    "scrolled": true
   },
   "source": [
    "##### Compute Biomass from Mean NDVI List"
   ]
  },
  {
   "cell_type": "code",
   "execution_count": 7,
   "id": "68fac588-3f36-4b9b-8eb1-891db0a9c3af",
   "metadata": {
    "scrolled": true
   },
   "outputs": [],
   "source": [
    "biomass_list = []\n",
    "for ndvi_m in ndvi_mean_list:\n",
    "    if ndvi_m>0.2:\n",
    "        biomass = ((8.957*102)*ndvi_m - (2.854*102))/1000\n",
    "    else:\n",
    "        biomass = 0\n",
    "    biomass_list.append(biomass)"
   ]
  },
  {
   "cell_type": "markdown",
   "id": "a687e35d-0a99-4297-b678-f47adef81da4",
   "metadata": {},
   "source": [
    "##### Create Dataframe"
   ]
  },
  {
   "cell_type": "code",
   "execution_count": 8,
   "id": "b1c4690e-4b10-44dc-9757-d9fe6deaad69",
   "metadata": {},
   "outputs": [
    {
     "data": {
      "text/html": [
       "<div>\n",
       "<style scoped>\n",
       "    .dataframe tbody tr th:only-of-type {\n",
       "        vertical-align: middle;\n",
       "    }\n",
       "\n",
       "    .dataframe tbody tr th {\n",
       "        vertical-align: top;\n",
       "    }\n",
       "\n",
       "    .dataframe thead th {\n",
       "        text-align: right;\n",
       "    }\n",
       "</style>\n",
       "<table border=\"1\" class=\"dataframe\">\n",
       "  <thead>\n",
       "    <tr style=\"text-align: right;\">\n",
       "      <th></th>\n",
       "      <th>Dates</th>\n",
       "      <th>NDVI_mean</th>\n",
       "      <th>biomass</th>\n",
       "    </tr>\n",
       "  </thead>\n",
       "  <tbody>\n",
       "    <tr>\n",
       "      <th>0</th>\n",
       "      <td>2021-02-11</td>\n",
       "      <td>0.038795</td>\n",
       "      <td>0.000000</td>\n",
       "    </tr>\n",
       "    <tr>\n",
       "      <th>1</th>\n",
       "      <td>2021-02-21</td>\n",
       "      <td>0.293483</td>\n",
       "      <td>-0.022978</td>\n",
       "    </tr>\n",
       "    <tr>\n",
       "      <th>2</th>\n",
       "      <td>2021-03-28</td>\n",
       "      <td>0.367721</td>\n",
       "      <td>0.044847</td>\n",
       "    </tr>\n",
       "    <tr>\n",
       "      <th>3</th>\n",
       "      <td>2021-04-02</td>\n",
       "      <td>0.424793</td>\n",
       "      <td>0.096989</td>\n",
       "    </tr>\n",
       "    <tr>\n",
       "      <th>4</th>\n",
       "      <td>2021-04-27</td>\n",
       "      <td>0.470034</td>\n",
       "      <td>0.138322</td>\n",
       "    </tr>\n",
       "    <tr>\n",
       "      <th>5</th>\n",
       "      <td>2021-06-01</td>\n",
       "      <td>0.511356</td>\n",
       "      <td>0.176074</td>\n",
       "    </tr>\n",
       "    <tr>\n",
       "      <th>6</th>\n",
       "      <td>2021-06-16</td>\n",
       "      <td>0.500328</td>\n",
       "      <td>0.165999</td>\n",
       "    </tr>\n",
       "    <tr>\n",
       "      <th>7</th>\n",
       "      <td>2021-07-21</td>\n",
       "      <td>0.175412</td>\n",
       "      <td>0.000000</td>\n",
       "    </tr>\n",
       "    <tr>\n",
       "      <th>8</th>\n",
       "      <td>2021-08-25</td>\n",
       "      <td>0.111693</td>\n",
       "      <td>0.000000</td>\n",
       "    </tr>\n",
       "    <tr>\n",
       "      <th>9</th>\n",
       "      <td>2021-09-24</td>\n",
       "      <td>0.126494</td>\n",
       "      <td>0.000000</td>\n",
       "    </tr>\n",
       "    <tr>\n",
       "      <th>10</th>\n",
       "      <td>2021-10-09</td>\n",
       "      <td>0.118804</td>\n",
       "      <td>0.000000</td>\n",
       "    </tr>\n",
       "    <tr>\n",
       "      <th>11</th>\n",
       "      <td>2021-10-14</td>\n",
       "      <td>0.120110</td>\n",
       "      <td>0.000000</td>\n",
       "    </tr>\n",
       "    <tr>\n",
       "      <th>12</th>\n",
       "      <td>2021-10-24</td>\n",
       "      <td>0.153474</td>\n",
       "      <td>0.000000</td>\n",
       "    </tr>\n",
       "    <tr>\n",
       "      <th>13</th>\n",
       "      <td>2021-11-23</td>\n",
       "      <td>0.202327</td>\n",
       "      <td>-0.106259</td>\n",
       "    </tr>\n",
       "    <tr>\n",
       "      <th>14</th>\n",
       "      <td>2021-12-18</td>\n",
       "      <td>0.184895</td>\n",
       "      <td>0.000000</td>\n",
       "    </tr>\n",
       "  </tbody>\n",
       "</table>\n",
       "</div>"
      ],
      "text/plain": [
       "        Dates  NDVI_mean   biomass\n",
       "0  2021-02-11   0.038795  0.000000\n",
       "1  2021-02-21   0.293483 -0.022978\n",
       "2  2021-03-28   0.367721  0.044847\n",
       "3  2021-04-02   0.424793  0.096989\n",
       "4  2021-04-27   0.470034  0.138322\n",
       "5  2021-06-01   0.511356  0.176074\n",
       "6  2021-06-16   0.500328  0.165999\n",
       "7  2021-07-21   0.175412  0.000000\n",
       "8  2021-08-25   0.111693  0.000000\n",
       "9  2021-09-24   0.126494  0.000000\n",
       "10 2021-10-09   0.118804  0.000000\n",
       "11 2021-10-14   0.120110  0.000000\n",
       "12 2021-10-24   0.153474  0.000000\n",
       "13 2021-11-23   0.202327 -0.106259\n",
       "14 2021-12-18   0.184895  0.000000"
      ]
     },
     "execution_count": 8,
     "metadata": {},
     "output_type": "execute_result"
    }
   ],
   "source": [
    "df = pd.DataFrame({'Dates': dates_list,\n",
    "                   'NDVI_mean': ndvi_mean_list})\n",
    "\n",
    "#convert date column to datetime format\n",
    "df['Dates'] = pd.to_datetime(df['Dates'])\n",
    "df['biomass'] = biomass_list\n",
    "df"
   ]
  },
  {
   "cell_type": "markdown",
   "id": "2c1afb2b-5947-404f-b7fe-bb404a5364d0",
   "metadata": {},
   "source": [
    "##### Get Yield"
   ]
  },
  {
   "cell_type": "code",
   "execution_count": 26,
   "id": "11d52121-8c29-431a-a597-7ee9a70e5824",
   "metadata": {},
   "outputs": [],
   "source": [
    "before_harvest_list = []\n",
    "biomass_per_harvest = []\n",
    "harvest_date = []\n",
    "harvest_event = []\n",
    "\n",
    "if Assumption1 == True:\n",
    "    for prev, curr, next in zip(ndvi_mean_list, ndvi_mean_list[1:], ndvi_mean_list[2:]):\n",
    "        if prev>0.3 and curr<0.1 and next<0.1:\n",
    "            before_harvest_list.append(prev)\n",
    "            for i, j in df.iterrows():\n",
    "                if j[1]==prev:\n",
    "                    biomass_per_harvest.append(j[2])\n",
    "           # print(prev, curr, next)\n",
    "\n",
    "elif Assumption2 == True:\n",
    "    for prev2, prev1, curr, next in zip(ndvi_mean_list, ndvi_mean_list[1:], ndvi_mean_list[2:], ndvi_mean_list[3:]):\n",
    "        if prev2>0.3 and prev1>0.3 and curr<0.1 and next<0.1:\n",
    "            before_harvest_list.append(prev1)\n",
    "            for i, j in df.iterrows():\n",
    "                if j[1]==prev1:\n",
    "                    biomass_per_harvest.append(j[2])\n",
    "                \n",
    "            #print(prev2, prev1, curr, next)\n",
    "\n",
    "elif Assumption3 == True:\n",
    "    for prev3, prev2, prev1, curr, next, next1 in zip(ndvi_mean_list, ndvi_mean_list[1:], ndvi_mean_list[2:], ndvi_mean_list[3:],ndvi_mean_list[4:], ndvi_mean_list[4:]):\n",
    "        if prev3>0.3 and prev2>0.3 and prev1>0.3 and curr<0.2 and next<0.2 and next1<0.2:\n",
    "            before_harvest_list.append(prev1)\n",
    "            for i, j in df.iterrows():\n",
    "                if j[1]==prev1:\n",
    "                    biomass_per_harvest.append(j[2])\n",
    "                    harvest_date = j[0].strftime('%Y%m%d')\n",
    "                \n",
    "                if j[1]==curr:\n",
    "                    harvest_event = j[0].strftime('%Y%m%d')                   \n",
    "                \n",
    "            #print(prev2, prev1, curr, next)"
   ]
  },
  {
   "cell_type": "code",
   "execution_count": 27,
   "id": "fa30b8ad-f75f-4e81-ac7f-c79277708f50",
   "metadata": {},
   "outputs": [
    {
     "name": "stdout",
     "output_type": "stream",
     "text": [
      "1 times for 0.17 t/ha\n"
     ]
    }
   ],
   "source": [
    "print(len(biomass_per_harvest), 'times for',  round((sum(biomass_per_harvest)),2), 't/ha')"
   ]
  },
  {
   "cell_type": "code",
   "execution_count": 28,
   "id": "retained-bulgaria",
   "metadata": {},
   "outputs": [
    {
     "data": {
      "text/plain": [
       "('20210616', '20210721')"
      ]
     },
     "execution_count": 28,
     "metadata": {},
     "output_type": "execute_result"
    }
   ],
   "source": [
    "harvest_date, harvest_event"
   ]
  },
  {
   "cell_type": "code",
   "execution_count": 35,
   "id": "a2e909fc-6959-4418-864a-3130b40bb117",
   "metadata": {},
   "outputs": [
    {
     "data": {
      "image/png": "[encoded data removed]",
      "text/plain": [
       "<Figure size 2000x900 with 1 Axes>"
      ]
     },
     "metadata": {},
     "output_type": "display_data"
    }
   ],
   "source": [
    "fig, ax = plt.subplots(figsize=(20,9))\n",
    "df.plot.line(x='Dates', y='NDVI_mean', color='blue', ax=ax)\n",
    "ax.set_ylim(bottom=0)\n",
    "ax.axvline(x=harvest_date, color='r', ls='--')\n",
    "plt.text(harvest_date, 0.05, 'Harvest Date', fontsize=12, rotation=90)\n",
    "ax.axvline(x=harvest_event, color='k', ls='--')\n",
    "plt.text(harvest_event, 0.05, 'Harvest Event', fontsize=12, rotation=90)\n",
    "plt.show()"
   ]
  },
  {
   "cell_type": "code",
   "execution_count": null,
   "id": "super-lawrence",
   "metadata": {},
   "outputs": [],
   "source": []
  }
 ],
 "metadata": {
  "kernelspec": {
   "display_name": "Python [conda env:gt_test]",
   "language": "python",
   "name": "conda-env-gt_test-py"
  },
  "language_info": {
   "codemirror_mode": {
    "name": "ipython",
    "version": 3
   },
   "file_extension": ".py",
   "mimetype": "text/x-python",
   "name": "python",
   "nbconvert_exporter": "python",
   "pygments_lexer": "ipython3",
   "version": "3.10.12"
  }
 },
 "nbformat": 4,
 "nbformat_minor": 5
}
